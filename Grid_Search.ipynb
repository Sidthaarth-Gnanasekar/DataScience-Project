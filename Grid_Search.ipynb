{
  "nbformat": 4,
  "nbformat_minor": 0,
  "metadata": {
    "colab": {
      "name": "Grid_Search.ipynb",
      "provenance": []
    },
    "kernelspec": {
      "name": "python3",
      "display_name": "Python 3"
    },
    "language_info": {
      "name": "python"
    }
  },
  "cells": [
    {
      "cell_type": "code",
      "metadata": {
        "colab": {
          "base_uri": "https://localhost:8080/"
        },
        "id": "stJybdkhnM7Y",
        "outputId": "74ea0cc1-c20a-4412-de76-686d98ac882f"
      },
      "source": [
        "from sklearn.datasets import load_digits\n",
        "digits=load_digits()\n",
        "dir(digits)"
      ],
      "execution_count": 3,
      "outputs": [
        {
          "output_type": "execute_result",
          "data": {
            "text/plain": [
              "['DESCR', 'data', 'images', 'target', 'target_names']"
            ]
          },
          "metadata": {
            "tags": []
          },
          "execution_count": 3
        }
      ]
    },
    {
      "cell_type": "code",
      "metadata": {
        "id": "SN4pi3UVnjci"
      },
      "source": [
        "from sklearn.model_selection import train_test_split\n",
        "x_train, x_test, y_train, y_test= train_test_split(digits.data,digits.target,test_size=0.2)\n"
      ],
      "execution_count": 27,
      "outputs": []
    },
    {
      "cell_type": "code",
      "metadata": {
        "colab": {
          "base_uri": "https://localhost:8080/"
        },
        "id": "SGBbNVGiowk_",
        "outputId": "212117e7-39a7-4254-9e41-a8cb45e71b3f"
      },
      "source": [
        "from sklearn.svm import SVC\n",
        "model=SVC()\n",
        "model.fit(x_train,y_train)\n",
        "model.score(x_test, y_test)"
      ],
      "execution_count": 9,
      "outputs": [
        {
          "output_type": "execute_result",
          "data": {
            "text/plain": [
              "0.9805555555555555"
            ]
          },
          "metadata": {
            "tags": []
          },
          "execution_count": 9
        }
      ]
    },
    {
      "cell_type": "code",
      "metadata": {
        "id": "1bN1oaj9pr0_"
      },
      "source": [
        "from sklearn.model_selection import cross_val_score"
      ],
      "execution_count": 12,
      "outputs": []
    },
    {
      "cell_type": "code",
      "metadata": {
        "colab": {
          "base_uri": "https://localhost:8080/"
        },
        "id": "Gd1tG9-downl",
        "outputId": "dae48fa5-8a2b-4276-f458-9514b58221b3"
      },
      "source": [
        "cross_val_score(SVC(kernel='linear',C=10,gamma='auto'),digits.data, digits.target, cv=5)"
      ],
      "execution_count": 15,
      "outputs": [
        {
          "output_type": "execute_result",
          "data": {
            "text/plain": [
              "array([0.96388889, 0.91944444, 0.96657382, 0.9637883 , 0.92479109])"
            ]
          },
          "metadata": {
            "tags": []
          },
          "execution_count": 15
        }
      ]
    },
    {
      "cell_type": "code",
      "metadata": {
        "colab": {
          "base_uri": "https://localhost:8080/"
        },
        "id": "vfa3gmAiqPce",
        "outputId": "d6376718-cff6-4927-f3cd-044d6a171cd1"
      },
      "source": [
        "cross_val_score(SVC(kernel='linear',C=5,gamma='auto'),digits.data, digits.target, cv=5)"
      ],
      "execution_count": 16,
      "outputs": [
        {
          "output_type": "execute_result",
          "data": {
            "text/plain": [
              "array([0.96388889, 0.91944444, 0.96657382, 0.9637883 , 0.92479109])"
            ]
          },
          "metadata": {
            "tags": []
          },
          "execution_count": 16
        }
      ]
    },
    {
      "cell_type": "code",
      "metadata": {
        "colab": {
          "base_uri": "https://localhost:8080/"
        },
        "id": "mLseKwmFqc2m",
        "outputId": "160e63b7-2162-4ce2-c8ee-42781fdda733"
      },
      "source": [
        "cross_val_score(SVC(kernel='rbf',C=10,gamma='auto'),digits.data, digits.target, cv=5)"
      ],
      "execution_count": 18,
      "outputs": [
        {
          "output_type": "execute_result",
          "data": {
            "text/plain": [
              "array([0.45277778, 0.46944444, 0.47910864, 0.47910864, 0.50139276])"
            ]
          },
          "metadata": {
            "tags": []
          },
          "execution_count": 18
        }
      ]
    },
    {
      "cell_type": "code",
      "metadata": {
        "id": "nFXYq5Imr5Pu"
      },
      "source": [
        "import numpy as np"
      ],
      "execution_count": 19,
      "outputs": []
    },
    {
      "cell_type": "code",
      "metadata": {
        "colab": {
          "base_uri": "https://localhost:8080/"
        },
        "id": "aBRSP1Yeowu1",
        "outputId": "52f6615d-18f4-4dd7-b3fc-c0833687e403"
      },
      "source": [
        "kernel=['linear','rbf']\n",
        "c=[1,10,100]\n",
        "Avg_scores={}\n",
        "for k_val in kernel:\n",
        "  for c_val in c:\n",
        "    score=cross_val_score(SVC(kernel=k_val,C=c_val,gamma='auto'),digits.data, digits.target, cv=5)\n",
        "    Avg_scores[k_val + '_' + str(c_val)]=np.average(score)\n",
        "\n",
        "Avg_scores\n"
      ],
      "execution_count": 32,
      "outputs": [
        {
          "output_type": "execute_result",
          "data": {
            "text/plain": [
              "{'linear_1': 0.9476973073351903,\n",
              " 'linear_10': 0.9476973073351903,\n",
              " 'linear_100': 0.9476973073351903,\n",
              " 'rbf_1': 0.448545341999381,\n",
              " 'rbf_10': 0.47636645001547506,\n",
              " 'rbf_100': 0.47636645001547506}"
            ]
          },
          "metadata": {
            "tags": []
          },
          "execution_count": 32
        }
      ]
    },
    {
      "cell_type": "code",
      "metadata": {
        "colab": {
          "base_uri": "https://localhost:8080/"
        },
        "id": "YGwztX96owyO",
        "outputId": "dc0505d0-5a8c-4924-d656-96af30f1d997"
      },
      "source": [
        "from sklearn.model_selection import GridSearchCV\n",
        "clf = GridSearchCV(SVC(gamma='auto'), {\n",
        "    'C': [1,10,20],\n",
        "    'kernel': ['rbf','linear']\n",
        "}, cv=5, return_train_score=False)\n",
        "clf.fit(digits.data, digits.target)\n",
        "clf.cv_results_"
      ],
      "execution_count": 33,
      "outputs": [
        {
          "output_type": "execute_result",
          "data": {
            "text/plain": [
              "{'mean_fit_time': array([0.48791523, 0.03959498, 0.4860044 , 0.03872552, 0.48318281,\n",
              "        0.03886809]),\n",
              " 'mean_score_time': array([0.06311774, 0.01164079, 0.06243367, 0.01140995, 0.06175957,\n",
              "        0.01141052]),\n",
              " 'mean_test_score': array([0.44854534, 0.94769731, 0.47636645, 0.94769731, 0.47636645,\n",
              "        0.94769731]),\n",
              " 'param_C': masked_array(data=[1, 1, 10, 10, 20, 20],\n",
              "              mask=[False, False, False, False, False, False],\n",
              "        fill_value='?',\n",
              "             dtype=object),\n",
              " 'param_kernel': masked_array(data=['rbf', 'linear', 'rbf', 'linear', 'rbf', 'linear'],\n",
              "              mask=[False, False, False, False, False, False],\n",
              "        fill_value='?',\n",
              "             dtype=object),\n",
              " 'params': [{'C': 1, 'kernel': 'rbf'},\n",
              "  {'C': 1, 'kernel': 'linear'},\n",
              "  {'C': 10, 'kernel': 'rbf'},\n",
              "  {'C': 10, 'kernel': 'linear'},\n",
              "  {'C': 20, 'kernel': 'rbf'},\n",
              "  {'C': 20, 'kernel': 'linear'}],\n",
              " 'rank_test_score': array([6, 1, 4, 1, 4, 1], dtype=int32),\n",
              " 'split0_test_score': array([0.41111111, 0.96388889, 0.45277778, 0.96388889, 0.45277778,\n",
              "        0.96388889]),\n",
              " 'split1_test_score': array([0.45      , 0.91944444, 0.46944444, 0.91944444, 0.46944444,\n",
              "        0.91944444]),\n",
              " 'split2_test_score': array([0.454039  , 0.96657382, 0.47910864, 0.96657382, 0.47910864,\n",
              "        0.96657382]),\n",
              " 'split3_test_score': array([0.44846797, 0.9637883 , 0.47910864, 0.9637883 , 0.47910864,\n",
              "        0.9637883 ]),\n",
              " 'split4_test_score': array([0.47910864, 0.92479109, 0.50139276, 0.92479109, 0.50139276,\n",
              "        0.92479109]),\n",
              " 'std_fit_time': array([0.00544074, 0.00211222, 0.0056978 , 0.00143136, 0.00255667,\n",
              "        0.00148624]),\n",
              " 'std_score_time': array([0.00218114, 0.00041122, 0.00120465, 0.00029485, 0.00089513,\n",
              "        0.00029156]),\n",
              " 'std_test_score': array([0.02176115, 0.02097775, 0.01578414, 0.02097775, 0.01578414,\n",
              "        0.02097775])}"
            ]
          },
          "metadata": {
            "tags": []
          },
          "execution_count": 33
        }
      ]
    },
    {
      "cell_type": "code",
      "metadata": {
        "colab": {
          "base_uri": "https://localhost:8080/",
          "height": 446
        },
        "id": "UiK8hbefvNpD",
        "outputId": "34d15c71-7216-439d-f8d4-2b172c41cb6a"
      },
      "source": [
        "import pandas as pd\n",
        "df = pd.DataFrame(clf.cv_results_)\n",
        "df"
      ],
      "execution_count": 35,
      "outputs": [
        {
          "output_type": "execute_result",
          "data": {
            "text/html": [
              "<div>\n",
              "<style scoped>\n",
              "    .dataframe tbody tr th:only-of-type {\n",
              "        vertical-align: middle;\n",
              "    }\n",
              "\n",
              "    .dataframe tbody tr th {\n",
              "        vertical-align: top;\n",
              "    }\n",
              "\n",
              "    .dataframe thead th {\n",
              "        text-align: right;\n",
              "    }\n",
              "</style>\n",
              "<table border=\"1\" class=\"dataframe\">\n",
              "  <thead>\n",
              "    <tr style=\"text-align: right;\">\n",
              "      <th></th>\n",
              "      <th>mean_fit_time</th>\n",
              "      <th>std_fit_time</th>\n",
              "      <th>mean_score_time</th>\n",
              "      <th>std_score_time</th>\n",
              "      <th>param_C</th>\n",
              "      <th>param_kernel</th>\n",
              "      <th>params</th>\n",
              "      <th>split0_test_score</th>\n",
              "      <th>split1_test_score</th>\n",
              "      <th>split2_test_score</th>\n",
              "      <th>split3_test_score</th>\n",
              "      <th>split4_test_score</th>\n",
              "      <th>mean_test_score</th>\n",
              "      <th>std_test_score</th>\n",
              "      <th>rank_test_score</th>\n",
              "    </tr>\n",
              "  </thead>\n",
              "  <tbody>\n",
              "    <tr>\n",
              "      <th>0</th>\n",
              "      <td>0.487915</td>\n",
              "      <td>0.005441</td>\n",
              "      <td>0.063118</td>\n",
              "      <td>0.002181</td>\n",
              "      <td>1</td>\n",
              "      <td>rbf</td>\n",
              "      <td>{'C': 1, 'kernel': 'rbf'}</td>\n",
              "      <td>0.411111</td>\n",
              "      <td>0.450000</td>\n",
              "      <td>0.454039</td>\n",
              "      <td>0.448468</td>\n",
              "      <td>0.479109</td>\n",
              "      <td>0.448545</td>\n",
              "      <td>0.021761</td>\n",
              "      <td>6</td>\n",
              "    </tr>\n",
              "    <tr>\n",
              "      <th>1</th>\n",
              "      <td>0.039595</td>\n",
              "      <td>0.002112</td>\n",
              "      <td>0.011641</td>\n",
              "      <td>0.000411</td>\n",
              "      <td>1</td>\n",
              "      <td>linear</td>\n",
              "      <td>{'C': 1, 'kernel': 'linear'}</td>\n",
              "      <td>0.963889</td>\n",
              "      <td>0.919444</td>\n",
              "      <td>0.966574</td>\n",
              "      <td>0.963788</td>\n",
              "      <td>0.924791</td>\n",
              "      <td>0.947697</td>\n",
              "      <td>0.020978</td>\n",
              "      <td>1</td>\n",
              "    </tr>\n",
              "    <tr>\n",
              "      <th>2</th>\n",
              "      <td>0.486004</td>\n",
              "      <td>0.005698</td>\n",
              "      <td>0.062434</td>\n",
              "      <td>0.001205</td>\n",
              "      <td>10</td>\n",
              "      <td>rbf</td>\n",
              "      <td>{'C': 10, 'kernel': 'rbf'}</td>\n",
              "      <td>0.452778</td>\n",
              "      <td>0.469444</td>\n",
              "      <td>0.479109</td>\n",
              "      <td>0.479109</td>\n",
              "      <td>0.501393</td>\n",
              "      <td>0.476366</td>\n",
              "      <td>0.015784</td>\n",
              "      <td>4</td>\n",
              "    </tr>\n",
              "    <tr>\n",
              "      <th>3</th>\n",
              "      <td>0.038726</td>\n",
              "      <td>0.001431</td>\n",
              "      <td>0.011410</td>\n",
              "      <td>0.000295</td>\n",
              "      <td>10</td>\n",
              "      <td>linear</td>\n",
              "      <td>{'C': 10, 'kernel': 'linear'}</td>\n",
              "      <td>0.963889</td>\n",
              "      <td>0.919444</td>\n",
              "      <td>0.966574</td>\n",
              "      <td>0.963788</td>\n",
              "      <td>0.924791</td>\n",
              "      <td>0.947697</td>\n",
              "      <td>0.020978</td>\n",
              "      <td>1</td>\n",
              "    </tr>\n",
              "    <tr>\n",
              "      <th>4</th>\n",
              "      <td>0.483183</td>\n",
              "      <td>0.002557</td>\n",
              "      <td>0.061760</td>\n",
              "      <td>0.000895</td>\n",
              "      <td>20</td>\n",
              "      <td>rbf</td>\n",
              "      <td>{'C': 20, 'kernel': 'rbf'}</td>\n",
              "      <td>0.452778</td>\n",
              "      <td>0.469444</td>\n",
              "      <td>0.479109</td>\n",
              "      <td>0.479109</td>\n",
              "      <td>0.501393</td>\n",
              "      <td>0.476366</td>\n",
              "      <td>0.015784</td>\n",
              "      <td>4</td>\n",
              "    </tr>\n",
              "    <tr>\n",
              "      <th>5</th>\n",
              "      <td>0.038868</td>\n",
              "      <td>0.001486</td>\n",
              "      <td>0.011411</td>\n",
              "      <td>0.000292</td>\n",
              "      <td>20</td>\n",
              "      <td>linear</td>\n",
              "      <td>{'C': 20, 'kernel': 'linear'}</td>\n",
              "      <td>0.963889</td>\n",
              "      <td>0.919444</td>\n",
              "      <td>0.966574</td>\n",
              "      <td>0.963788</td>\n",
              "      <td>0.924791</td>\n",
              "      <td>0.947697</td>\n",
              "      <td>0.020978</td>\n",
              "      <td>1</td>\n",
              "    </tr>\n",
              "  </tbody>\n",
              "</table>\n",
              "</div>"
            ],
            "text/plain": [
              "   mean_fit_time  std_fit_time  ...  std_test_score  rank_test_score\n",
              "0       0.487915      0.005441  ...        0.021761                6\n",
              "1       0.039595      0.002112  ...        0.020978                1\n",
              "2       0.486004      0.005698  ...        0.015784                4\n",
              "3       0.038726      0.001431  ...        0.020978                1\n",
              "4       0.483183      0.002557  ...        0.015784                4\n",
              "5       0.038868      0.001486  ...        0.020978                1\n",
              "\n",
              "[6 rows x 15 columns]"
            ]
          },
          "metadata": {
            "tags": []
          },
          "execution_count": 35
        }
      ]
    },
    {
      "cell_type": "code",
      "metadata": {
        "colab": {
          "base_uri": "https://localhost:8080/",
          "height": 225
        },
        "id": "xhp4MwQRvXUg",
        "outputId": "0a20adc1-e5e0-4e0e-ba3a-921e1707b92d"
      },
      "source": [
        "df[['param_C','param_kernel','mean_test_score']]\n"
      ],
      "execution_count": 36,
      "outputs": [
        {
          "output_type": "execute_result",
          "data": {
            "text/html": [
              "<div>\n",
              "<style scoped>\n",
              "    .dataframe tbody tr th:only-of-type {\n",
              "        vertical-align: middle;\n",
              "    }\n",
              "\n",
              "    .dataframe tbody tr th {\n",
              "        vertical-align: top;\n",
              "    }\n",
              "\n",
              "    .dataframe thead th {\n",
              "        text-align: right;\n",
              "    }\n",
              "</style>\n",
              "<table border=\"1\" class=\"dataframe\">\n",
              "  <thead>\n",
              "    <tr style=\"text-align: right;\">\n",
              "      <th></th>\n",
              "      <th>param_C</th>\n",
              "      <th>param_kernel</th>\n",
              "      <th>mean_test_score</th>\n",
              "    </tr>\n",
              "  </thead>\n",
              "  <tbody>\n",
              "    <tr>\n",
              "      <th>0</th>\n",
              "      <td>1</td>\n",
              "      <td>rbf</td>\n",
              "      <td>0.448545</td>\n",
              "    </tr>\n",
              "    <tr>\n",
              "      <th>1</th>\n",
              "      <td>1</td>\n",
              "      <td>linear</td>\n",
              "      <td>0.947697</td>\n",
              "    </tr>\n",
              "    <tr>\n",
              "      <th>2</th>\n",
              "      <td>10</td>\n",
              "      <td>rbf</td>\n",
              "      <td>0.476366</td>\n",
              "    </tr>\n",
              "    <tr>\n",
              "      <th>3</th>\n",
              "      <td>10</td>\n",
              "      <td>linear</td>\n",
              "      <td>0.947697</td>\n",
              "    </tr>\n",
              "    <tr>\n",
              "      <th>4</th>\n",
              "      <td>20</td>\n",
              "      <td>rbf</td>\n",
              "      <td>0.476366</td>\n",
              "    </tr>\n",
              "    <tr>\n",
              "      <th>5</th>\n",
              "      <td>20</td>\n",
              "      <td>linear</td>\n",
              "      <td>0.947697</td>\n",
              "    </tr>\n",
              "  </tbody>\n",
              "</table>\n",
              "</div>"
            ],
            "text/plain": [
              "  param_C param_kernel  mean_test_score\n",
              "0       1          rbf         0.448545\n",
              "1       1       linear         0.947697\n",
              "2      10          rbf         0.476366\n",
              "3      10       linear         0.947697\n",
              "4      20          rbf         0.476366\n",
              "5      20       linear         0.947697"
            ]
          },
          "metadata": {
            "tags": []
          },
          "execution_count": 36
        }
      ]
    },
    {
      "cell_type": "code",
      "metadata": {
        "colab": {
          "base_uri": "https://localhost:8080/"
        },
        "id": "hWFBvog1vbBJ",
        "outputId": "89b8a622-5571-4e1d-cff6-f8ee4588fa44"
      },
      "source": [
        "clf.best_params_"
      ],
      "execution_count": 37,
      "outputs": [
        {
          "output_type": "execute_result",
          "data": {
            "text/plain": [
              "{'C': 1, 'kernel': 'linear'}"
            ]
          },
          "metadata": {
            "tags": []
          },
          "execution_count": 37
        }
      ]
    },
    {
      "cell_type": "code",
      "metadata": {
        "colab": {
          "base_uri": "https://localhost:8080/"
        },
        "id": "bkxBqUlwvbEB",
        "outputId": "55fce238-25c5-41bc-8d92-5547dff5b6ed"
      },
      "source": [
        "clf.best_score_"
      ],
      "execution_count": 38,
      "outputs": [
        {
          "output_type": "execute_result",
          "data": {
            "text/plain": [
              "0.9476973073351903"
            ]
          },
          "metadata": {
            "tags": []
          },
          "execution_count": 38
        }
      ]
    },
    {
      "cell_type": "code",
      "metadata": {
        "id": "TbynexhLnjeI"
      },
      "source": [
        "from sklearn.ensemble import RandomForestClassifier\n",
        "from sklearn.linear_model import LogisticRegression\n",
        "from sklearn.naive_bayes import GaussianNB\n",
        "from sklearn.naive_bayes import MultinomialNB\n",
        "from sklearn.tree import DecisionTreeClassifier"
      ],
      "execution_count": 39,
      "outputs": []
    },
    {
      "cell_type": "code",
      "metadata": {
        "id": "oI691cHOyEnC"
      },
      "source": [
        "model_params = {\n",
        "    'svm': {\n",
        "        'model': svm.SVC(gamma='auto'),\n",
        "        'params' : {\n",
        "            'C': [1,10,20],\n",
        "            'kernel': ['rbf','linear']\n",
        "        }  \n",
        "    },\n",
        "    'random_forest': {\n",
        "        'model': RandomForestClassifier(),\n",
        "        'params' : {\n",
        "            'n_estimators': [1,5,10]\n",
        "        }\n",
        "    },\n",
        "    'logistic_regression' : {\n",
        "        'model': LogisticRegression(solver='liblinear',multi_class='auto'),\n",
        "        'params': {\n",
        "            'C': [1,5,10]\n",
        "        }\n",
        "    },\n",
        "    'GaussianNB': {\n",
        "        'model':GaussianNB(),\n",
        "        'params' : {\n",
        "            \n",
        "        }  \n",
        "    },\n",
        "    'MultinomialNB': {\n",
        "        'model':MultinomialNB(),\n",
        "        'params' : {\n",
        "            \n",
        "        } \n",
        "    },\n",
        "    'DecisionTreeClassifier': {\n",
        "        'model':DecisionTreeClassifier(),\n",
        "        'params' : {'criterion':['gini']}\n",
        "            \n",
        "        }      \n",
        "}"
      ],
      "execution_count": 61,
      "outputs": []
    },
    {
      "cell_type": "code",
      "metadata": {
        "colab": {
          "base_uri": "https://localhost:8080/",
          "height": 225
        },
        "id": "w1OrnjcJnjjc",
        "outputId": "302b976c-17a1-4140-fbb1-d1897237a222"
      },
      "source": [
        "score = []\n",
        "\n",
        "for model_name, mp in model_params.items():\n",
        "    clf =  GridSearchCV(mp['model'], mp['params'], cv=5, return_train_score=False)\n",
        "    clf.fit(digits.data, digits.target)\n",
        "    score.append({\n",
        "        'model': model_name,\n",
        "        'best_score': clf.best_score_,\n",
        "        'best_params': clf.best_params_\n",
        "    })\n",
        "    \n",
        "df1 = pd.DataFrame(score,columns=['model','best_score','best_params'])\n",
        "df1"
      ],
      "execution_count": 62,
      "outputs": [
        {
          "output_type": "execute_result",
          "data": {
            "text/html": [
              "<div>\n",
              "<style scoped>\n",
              "    .dataframe tbody tr th:only-of-type {\n",
              "        vertical-align: middle;\n",
              "    }\n",
              "\n",
              "    .dataframe tbody tr th {\n",
              "        vertical-align: top;\n",
              "    }\n",
              "\n",
              "    .dataframe thead th {\n",
              "        text-align: right;\n",
              "    }\n",
              "</style>\n",
              "<table border=\"1\" class=\"dataframe\">\n",
              "  <thead>\n",
              "    <tr style=\"text-align: right;\">\n",
              "      <th></th>\n",
              "      <th>model</th>\n",
              "      <th>best_score</th>\n",
              "      <th>best_params</th>\n",
              "    </tr>\n",
              "  </thead>\n",
              "  <tbody>\n",
              "    <tr>\n",
              "      <th>0</th>\n",
              "      <td>svm</td>\n",
              "      <td>0.947697</td>\n",
              "      <td>{'C': 1, 'kernel': 'linear'}</td>\n",
              "    </tr>\n",
              "    <tr>\n",
              "      <th>1</th>\n",
              "      <td>random_forest</td>\n",
              "      <td>0.893737</td>\n",
              "      <td>{'n_estimators': 10}</td>\n",
              "    </tr>\n",
              "    <tr>\n",
              "      <th>2</th>\n",
              "      <td>logistic_regression</td>\n",
              "      <td>0.922114</td>\n",
              "      <td>{'C': 1}</td>\n",
              "    </tr>\n",
              "    <tr>\n",
              "      <th>3</th>\n",
              "      <td>GaussianNB</td>\n",
              "      <td>0.806928</td>\n",
              "      <td>{}</td>\n",
              "    </tr>\n",
              "    <tr>\n",
              "      <th>4</th>\n",
              "      <td>MultinomialNB</td>\n",
              "      <td>0.870350</td>\n",
              "      <td>{}</td>\n",
              "    </tr>\n",
              "    <tr>\n",
              "      <th>5</th>\n",
              "      <td>DecisionTreeClassifier</td>\n",
              "      <td>0.790809</td>\n",
              "      <td>{'criterion': 'gini'}</td>\n",
              "    </tr>\n",
              "  </tbody>\n",
              "</table>\n",
              "</div>"
            ],
            "text/plain": [
              "                    model  best_score                   best_params\n",
              "0                     svm    0.947697  {'C': 1, 'kernel': 'linear'}\n",
              "1           random_forest    0.893737          {'n_estimators': 10}\n",
              "2     logistic_regression    0.922114                      {'C': 1}\n",
              "3              GaussianNB    0.806928                            {}\n",
              "4           MultinomialNB    0.870350                            {}\n",
              "5  DecisionTreeClassifier    0.790809         {'criterion': 'gini'}"
            ]
          },
          "metadata": {
            "tags": []
          },
          "execution_count": 62
        }
      ]
    }
  ]
}