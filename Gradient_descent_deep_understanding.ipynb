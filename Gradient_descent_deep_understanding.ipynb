{
  "nbformat": 4,
  "nbformat_minor": 0,
  "metadata": {
    "colab": {
      "name": "Gradient_descent_deep_understanding.ipynb",
      "provenance": []
    },
    "kernelspec": {
      "name": "python3",
      "display_name": "Python 3"
    },
    "language_info": {
      "name": "python"
    }
  },
  "cells": [
    {
      "cell_type": "code",
      "metadata": {
        "colab": {
          "base_uri": "https://localhost:8080/",
          "height": 203
        },
        "id": "tE5bwayLLf2o",
        "outputId": "d5c0ecf7-80e6-484c-9349-0fcaad5b54c8"
      },
      "source": [
        "import pandas as pd\n",
        "df= pd.read_csv('insurance_data.csv')\n",
        "df.head()"
      ],
      "execution_count": null,
      "outputs": [
        {
          "output_type": "execute_result",
          "data": {
            "text/html": [
              "<div>\n",
              "<style scoped>\n",
              "    .dataframe tbody tr th:only-of-type {\n",
              "        vertical-align: middle;\n",
              "    }\n",
              "\n",
              "    .dataframe tbody tr th {\n",
              "        vertical-align: top;\n",
              "    }\n",
              "\n",
              "    .dataframe thead th {\n",
              "        text-align: right;\n",
              "    }\n",
              "</style>\n",
              "<table border=\"1\" class=\"dataframe\">\n",
              "  <thead>\n",
              "    <tr style=\"text-align: right;\">\n",
              "      <th></th>\n",
              "      <th>age</th>\n",
              "      <th>affordibility</th>\n",
              "      <th>bought_insurance</th>\n",
              "    </tr>\n",
              "  </thead>\n",
              "  <tbody>\n",
              "    <tr>\n",
              "      <th>0</th>\n",
              "      <td>22</td>\n",
              "      <td>1</td>\n",
              "      <td>0</td>\n",
              "    </tr>\n",
              "    <tr>\n",
              "      <th>1</th>\n",
              "      <td>25</td>\n",
              "      <td>0</td>\n",
              "      <td>0</td>\n",
              "    </tr>\n",
              "    <tr>\n",
              "      <th>2</th>\n",
              "      <td>47</td>\n",
              "      <td>1</td>\n",
              "      <td>1</td>\n",
              "    </tr>\n",
              "    <tr>\n",
              "      <th>3</th>\n",
              "      <td>52</td>\n",
              "      <td>0</td>\n",
              "      <td>0</td>\n",
              "    </tr>\n",
              "    <tr>\n",
              "      <th>4</th>\n",
              "      <td>46</td>\n",
              "      <td>1</td>\n",
              "      <td>1</td>\n",
              "    </tr>\n",
              "  </tbody>\n",
              "</table>\n",
              "</div>"
            ],
            "text/plain": [
              "   age  affordibility  bought_insurance\n",
              "0   22              1                 0\n",
              "1   25              0                 0\n",
              "2   47              1                 1\n",
              "3   52              0                 0\n",
              "4   46              1                 1"
            ]
          },
          "metadata": {
            "tags": []
          },
          "execution_count": 2
        }
      ]
    },
    {
      "cell_type": "code",
      "metadata": {
        "id": "7pTGKhfFQodl"
      },
      "source": [
        "from sklearn.model_selection import train_test_split\n",
        "x_train, x_test, y_train, y_test = train_test_split(df[['age','affordibility']],df.bought_insurance,test_size=0.2,random_state=45)"
      ],
      "execution_count": null,
      "outputs": []
    },
    {
      "cell_type": "code",
      "metadata": {
        "colab": {
          "base_uri": "https://localhost:8080/"
        },
        "id": "sxFuzoPqb2UF",
        "outputId": "0b5617f5-ca50-4c26-d152-e1a5c08b903b"
      },
      "source": [
        "x_train.affordibility[0]"
      ],
      "execution_count": null,
      "outputs": [
        {
          "output_type": "execute_result",
          "data": {
            "text/plain": [
              "1"
            ]
          },
          "metadata": {
            "tags": []
          },
          "execution_count": 4
        }
      ]
    },
    {
      "cell_type": "code",
      "metadata": {
        "colab": {
          "base_uri": "https://localhost:8080/",
          "height": 726
        },
        "id": "4PpRJgGuT6XX",
        "outputId": "a4f125d7-9dac-4012-a3fc-28466c2f380b"
      },
      "source": [
        "from sklearn.preprocessing import MinMaxScaler\n",
        "scalar=MinMaxScaler()\n",
        "x_train_scaled = x_train.copy()\n",
        "x_train_scaled['age'] = scalar.fit_transform(x_train_scaled[['age']])\n",
        "x_train_scaled"
      ],
      "execution_count": null,
      "outputs": [
        {
          "output_type": "execute_result",
          "data": {
            "text/html": [
              "<div>\n",
              "<style scoped>\n",
              "    .dataframe tbody tr th:only-of-type {\n",
              "        vertical-align: middle;\n",
              "    }\n",
              "\n",
              "    .dataframe tbody tr th {\n",
              "        vertical-align: top;\n",
              "    }\n",
              "\n",
              "    .dataframe thead th {\n",
              "        text-align: right;\n",
              "    }\n",
              "</style>\n",
              "<table border=\"1\" class=\"dataframe\">\n",
              "  <thead>\n",
              "    <tr style=\"text-align: right;\">\n",
              "      <th></th>\n",
              "      <th>age</th>\n",
              "      <th>affordibility</th>\n",
              "    </tr>\n",
              "  </thead>\n",
              "  <tbody>\n",
              "    <tr>\n",
              "      <th>7</th>\n",
              "      <td>0.954545</td>\n",
              "      <td>0</td>\n",
              "    </tr>\n",
              "    <tr>\n",
              "      <th>9</th>\n",
              "      <td>0.977273</td>\n",
              "      <td>1</td>\n",
              "    </tr>\n",
              "    <tr>\n",
              "      <th>22</th>\n",
              "      <td>0.500000</td>\n",
              "      <td>1</td>\n",
              "    </tr>\n",
              "    <tr>\n",
              "      <th>6</th>\n",
              "      <td>0.840909</td>\n",
              "      <td>0</td>\n",
              "    </tr>\n",
              "    <tr>\n",
              "      <th>20</th>\n",
              "      <td>0.068182</td>\n",
              "      <td>1</td>\n",
              "    </tr>\n",
              "    <tr>\n",
              "      <th>16</th>\n",
              "      <td>0.159091</td>\n",
              "      <td>0</td>\n",
              "    </tr>\n",
              "    <tr>\n",
              "      <th>17</th>\n",
              "      <td>0.909091</td>\n",
              "      <td>1</td>\n",
              "    </tr>\n",
              "    <tr>\n",
              "      <th>2</th>\n",
              "      <td>0.659091</td>\n",
              "      <td>1</td>\n",
              "    </tr>\n",
              "    <tr>\n",
              "      <th>12</th>\n",
              "      <td>0.204545</td>\n",
              "      <td>0</td>\n",
              "    </tr>\n",
              "    <tr>\n",
              "      <th>5</th>\n",
              "      <td>0.863636</td>\n",
              "      <td>1</td>\n",
              "    </tr>\n",
              "    <tr>\n",
              "      <th>18</th>\n",
              "      <td>0.022727</td>\n",
              "      <td>0</td>\n",
              "    </tr>\n",
              "    <tr>\n",
              "      <th>19</th>\n",
              "      <td>0.000000</td>\n",
              "      <td>1</td>\n",
              "    </tr>\n",
              "    <tr>\n",
              "      <th>8</th>\n",
              "      <td>1.000000</td>\n",
              "      <td>1</td>\n",
              "    </tr>\n",
              "    <tr>\n",
              "      <th>14</th>\n",
              "      <td>0.704545</td>\n",
              "      <td>1</td>\n",
              "    </tr>\n",
              "    <tr>\n",
              "      <th>1</th>\n",
              "      <td>0.159091</td>\n",
              "      <td>0</td>\n",
              "    </tr>\n",
              "    <tr>\n",
              "      <th>15</th>\n",
              "      <td>0.840909</td>\n",
              "      <td>1</td>\n",
              "    </tr>\n",
              "    <tr>\n",
              "      <th>4</th>\n",
              "      <td>0.636364</td>\n",
              "      <td>1</td>\n",
              "    </tr>\n",
              "    <tr>\n",
              "      <th>26</th>\n",
              "      <td>0.113636</td>\n",
              "      <td>1</td>\n",
              "    </tr>\n",
              "    <tr>\n",
              "      <th>21</th>\n",
              "      <td>0.181818</td>\n",
              "      <td>0</td>\n",
              "    </tr>\n",
              "    <tr>\n",
              "      <th>0</th>\n",
              "      <td>0.090909</td>\n",
              "      <td>1</td>\n",
              "    </tr>\n",
              "    <tr>\n",
              "      <th>3</th>\n",
              "      <td>0.772727</td>\n",
              "      <td>0</td>\n",
              "    </tr>\n",
              "    <tr>\n",
              "      <th>11</th>\n",
              "      <td>0.227273</td>\n",
              "      <td>1</td>\n",
              "    </tr>\n",
              "  </tbody>\n",
              "</table>\n",
              "</div>"
            ],
            "text/plain": [
              "         age  affordibility\n",
              "7   0.954545              0\n",
              "9   0.977273              1\n",
              "22  0.500000              1\n",
              "6   0.840909              0\n",
              "20  0.068182              1\n",
              "16  0.159091              0\n",
              "17  0.909091              1\n",
              "2   0.659091              1\n",
              "12  0.204545              0\n",
              "5   0.863636              1\n",
              "18  0.022727              0\n",
              "19  0.000000              1\n",
              "8   1.000000              1\n",
              "14  0.704545              1\n",
              "1   0.159091              0\n",
              "15  0.840909              1\n",
              "4   0.636364              1\n",
              "26  0.113636              1\n",
              "21  0.181818              0\n",
              "0   0.090909              1\n",
              "3   0.772727              0\n",
              "11  0.227273              1"
            ]
          },
          "metadata": {
            "tags": []
          },
          "execution_count": 5
        }
      ]
    },
    {
      "cell_type": "code",
      "metadata": {
        "id": "M_kf76yKSZH3"
      },
      "source": [
        "from tensorflow import keras\n",
        "model = keras.Sequential(\n",
        "    [keras.layers.Dense(1, input_shape=(2,),activation='sigmoid',kernel_initializer='ones',bias_initializer='zeros')]\n",
        ")\n",
        "\n",
        "model.compile(\n",
        "    optimizer='adam',loss='binary_crossentropy', metrics=['accuracy']\n",
        ")\n",
        "model.fit(x_train_scaled,y_train,epochs=2000)"
      ],
      "execution_count": null,
      "outputs": []
    },
    {
      "cell_type": "code",
      "metadata": {
        "colab": {
          "base_uri": "https://localhost:8080/"
        },
        "id": "bpUFg2GvdQl-",
        "outputId": "7244d6f4-26e4-4656-e265-4869acadf2ed"
      },
      "source": [
        "cofficient, intercept = model.get_weights()\n",
        "cofficient, intercept"
      ],
      "execution_count": null,
      "outputs": [
        {
          "output_type": "execute_result",
          "data": {
            "text/plain": [
              "(array([[2.8387413],\n",
              "        [0.5795002]], dtype=float32), array([-1.4592602], dtype=float32))"
            ]
          },
          "metadata": {
            "tags": []
          },
          "execution_count": 7
        }
      ]
    },
    {
      "cell_type": "code",
      "metadata": {
        "id": "asbraZTmY0Ot"
      },
      "source": [
        "import numpy as np\n",
        "def sigmoid(weighted_sum):\n",
        "  output= 1/(1+np.exp(-weighted_sum))\n",
        "  return output"
      ],
      "execution_count": null,
      "outputs": []
    },
    {
      "cell_type": "code",
      "metadata": {
        "colab": {
          "base_uri": "https://localhost:8080/"
        },
        "id": "zlP51VLGZgON",
        "outputId": "8dd03142-34aa-40a6-94d8-07f8d61065b9"
      },
      "source": [
        "sigmoid(8)"
      ],
      "execution_count": null,
      "outputs": [
        {
          "output_type": "execute_result",
          "data": {
            "text/plain": [
              "0.9996646498695336"
            ]
          },
          "metadata": {
            "tags": []
          },
          "execution_count": 9
        }
      ]
    },
    {
      "cell_type": "code",
      "metadata": {
        "id": "ZlErJdM7aFNM"
      },
      "source": [
        "def predicted(x1,x2):\n",
        "  w1=cofficient[0]\n",
        "  w2=cofficient[1]\n",
        "  b=intercept\n",
        "  y=w1*x1+w2*x2+b\n",
        "  return sigmoid(y)\n"
      ],
      "execution_count": null,
      "outputs": []
    },
    {
      "cell_type": "code",
      "metadata": {
        "colab": {
          "base_uri": "https://localhost:8080/"
        },
        "id": "Nf2HR-ombOyE",
        "outputId": "cea14805-f357-403b-bab9-a18e84e87c70"
      },
      "source": [
        "predicted(x_train_scaled.age[7],x_train_scaled.affordibility[7])"
      ],
      "execution_count": null,
      "outputs": [
        {
          "output_type": "execute_result",
          "data": {
            "text/plain": [
              "array([0.77737725], dtype=float32)"
            ]
          },
          "metadata": {
            "tags": []
          },
          "execution_count": 11
        }
      ]
    },
    {
      "cell_type": "code",
      "metadata": {
        "id": "iVf-X6eB40S0"
      },
      "source": [
        "def loss(y_true,y_predicted):\n",
        "  epsilon=1e-12\n",
        "  y_predict = [max(i,epsilon) for i in y_predicted]\n",
        "  y_predict = [min(i,1-epsilon) for i in y_predict]\n",
        "  y_predicted_new = np.array(y_predict)\n",
        "  return -np.mean(y_true*np.log(y_predicted_new)+(1-y_true)*np.log(1-y_predicted_new))"
      ],
      "execution_count": null,
      "outputs": []
    },
    {
      "cell_type": "code",
      "metadata": {
        "id": "EsySJNtl-6Qg"
      },
      "source": [
        "class gradient_descent:\n",
        "  def __init__(self):\n",
        "    self.w1=self.w2=1\n",
        "    self.b=0\n",
        "    \n",
        "    \n",
        "  def fit(self,x,y_train,epochs):\n",
        "    self.w1,self.w2,self.b=self.predicted(x['age'],x['affordibility'],y_train,epochs)\n",
        "    print(f'final values are cofficient1 = {self.w1},cofficient2 = {self.w2},bias = {self.b}')\n",
        "\n",
        "  def predicted(self,age,affordibility,y_train,epochs):\n",
        "    n=len(y_train)\n",
        "    rate=0.2\n",
        "    for i in range(epochs):\n",
        "      y= self.w1*age + self.w2*affordibility + self.b\n",
        "      y_predicted=sigmoid(y)\n",
        "      losses=loss(y_train,y_predicted)\n",
        "      \n",
        "      w1d = (1/n)*np.dot(np.transpose(age),(y_predicted-y_train)) \n",
        "      w2d = (1/n)*np.dot(np.transpose(affordibility),(y_predicted-y_train)) \n",
        "      bd = np.mean(y_predicted-y_train)\n",
        "\n",
        "      self.w1=self.w1-rate*w1d\n",
        "      self.w2=self.w2-rate*w2d\n",
        "      self.b =self.b-rate*bd\n",
        "\n",
        "      if i%50==0:\n",
        "        print(i,self.w1,self.w2,self.b,losses)\n",
        "\n",
        "    return self.w1, self.w2, self.b\n",
        "\n",
        "  def predict(self, X_test):\n",
        "    weighted_sum = self.w1*X_test['age'] + self.w2*X_test['affordibility'] + self.b\n",
        "    return sigmoid(weighted_sum)\n"
      ],
      "execution_count": null,
      "outputs": []
    },
    {
      "cell_type": "code",
      "metadata": {
        "colab": {
          "base_uri": "https://localhost:8080/"
        },
        "id": "LkQHI-7Bvkyx",
        "outputId": "9fd14800-5c1a-4d7e-f78a-39a6be74e319"
      },
      "source": [
        "Gradient=gradient_descent()\n",
        "Gradient.fit(x_train_scaled,y_train,2000)"
      ],
      "execution_count": null,
      "outputs": [
        {
          "output_type": "stream",
          "text": [
            "0 0.9957123386047189 0.977729565809415 -0.04759901443866844 0.6686216072654623\n",
            "50 1.3927830361278635 0.7823634941555857 -0.9946798799312482 0.5080758226856533\n",
            "100 1.9110005733924125 0.8974849897087873 -1.3676831097863644 0.46553537805094736\n",
            "150 2.3382282758082664 0.9994353582213914 -1.6652658320303462 0.43713959408250086\n",
            "200 2.6925629101267137 1.0886402871037788 -1.9143208845138338 0.41743388695725475\n",
            "250 2.990420717182138 1.168694508155768 -2.1269806549056307 0.40330192516456553\n",
            "300 3.243908706699549 1.2417062237504495 -2.311378163826552 0.3928789722198861\n",
            "350 3.4620227285370104 1.3089428745710825 -2.4732368489417134 0.38500591019423247\n",
            "400 3.651543629601465 1.3712209110770264 -2.6167185922980525 0.37893670547420927\n",
            "450 3.8176575338909617 1.4291083077415672 -2.74493794476683 0.37417594160034395\n",
            "500 3.9643861710781216 1.4830310645716696 -2.86028499279162 0.3703853095778044\n",
            "550 4.0948887618527605 1.5333303671838625 -2.964634389838354 0.3673279531503498\n",
            "600 4.21167672407333 1.5802938853794826 -3.0594846546357006 0.36483430876608786\n",
            "650 4.316768576831274 1.624173247073006 -3.1460535135343837 0.36278054180415126\n",
            "700 4.41180327169207 1.6651939970367617 -3.2253447741626955 0.3610745819710412\n",
            "750 4.498124210982894 1.7035614178420417 -3.298196289811564 0.3596468667777486\n",
            "800 4.576842304834248 1.7394640533461536 -3.3653150681350574 0.35844407382208154\n",
            "850 4.648883835999509 1.7730759511761003 -3.4273034503378215 0.35742479328208887\n",
            "900 4.715027173716084 1.8045581903145775 -3.484678964249399 0.35655648604092166\n",
            "950 4.775931206350034 1.8340600098157318 -3.5378896132908624 0.3558133099834059\n",
            "1000 4.832157557164777 1.8617197142344644 -3.587325816708924 0.35517454291169914\n",
            "1050 4.884188086275288 1.887665452010358 -3.633329854293064 0.3546234221723266\n",
            "1100 4.932438785547848 1.9120159182429606 -3.676203424442948 0.35414627975643803\n",
            "1150 4.977270889901506 1.934881008207514 -3.716213756776207 0.35373188986557175\n",
            "1200 5.0189998235763715 1.9563624341817847 -3.7535986035682023 0.3533709712620671\n",
            "1250 5.05790245014206 1.9765543108546766 -3.7885703516011846 0.3530558037630951\n",
            "1300 5.094222984407395 1.9955437109647531 -3.821319436652457 0.35277992986899265\n",
            "1350 5.128177841952279 2.0134111912409565 -3.8520171997060677 0.35253792056551486\n",
            "1400 5.159959640031707 2.0302312882400266 -3.8808182922150967 0.35232518998117573\n",
            "1450 5.189740516648095 2.0460729837483926 -3.9078627140904167 0.352137847583143\n",
            "1500 5.217674898751093 2.061000139730481 -3.9332775502814186 0.351972579467028\n",
            "1550 5.243901822985169 2.0750719031904037 -3.9571784582606684 0.3518265523789438\n",
            "1600 5.268546891108596 2.088343081681751 -3.979670948307786 0.3516973356344922\n",
            "1650 5.291723925639688 2.1008644905099767 -4.000851490406696 0.3515828372284646\n",
            "1700 5.313536378325417 2.1126832729097953 -4.020808475245802 0.35148125127196644\n",
            "1750 5.334078533834341 2.123843194646223 -4.039623051819414 0.3513910145283548\n",
            "1800 5.353436543019123 2.134384914589814 -4.057369860159056 0.3513107703011456\n",
            "1850 5.371689313695058 2.1443462328645797 -4.074117674542949 0.35123933829557297\n",
            "1900 5.388909281775448 2.1537623181715255 -4.089929969966293 0.3511756893594153\n",
            "1950 5.405163081512809 2.162665915862111 -4.104865422572182 0.35111892422899676\n",
            "final values are cofficient1 = 5.420213641768683,cofficient2 = 2.170923641920506,bias = -4.118703823250242\n"
          ],
          "name": "stdout"
        }
      ]
    },
    {
      "cell_type": "code",
      "metadata": {
        "id": "D1VxjGyZ-I0v"
      },
      "source": [
        "X_test_scaled = x_test.copy()\n",
        "X_test_scaled['age'] = X_test_scaled['age'] / 100"
      ],
      "execution_count": null,
      "outputs": []
    },
    {
      "cell_type": "code",
      "metadata": {
        "colab": {
          "base_uri": "https://localhost:8080/"
        },
        "id": "QE9ah-Jk8l2B",
        "outputId": "93f92d7c-adbf-4ba3-e2ca-d56a0f7dac29"
      },
      "source": [
        "Gradient.predict(X_test_scaled)"
      ],
      "execution_count": null,
      "outputs": [
        {
          "output_type": "execute_result",
          "data": {
            "text/plain": [
              "10    0.274454\n",
              "23    0.620416\n",
              "27    0.633095\n",
              "24    0.681859\n",
              "13    0.072639\n",
              "25    0.726937\n",
              "dtype: float64"
            ]
          },
          "metadata": {
            "tags": []
          },
          "execution_count": 89
        }
      ]
    },
    {
      "cell_type": "code",
      "metadata": {
        "colab": {
          "base_uri": "https://localhost:8080/"
        },
        "id": "wB9giAYo-l2J",
        "outputId": "443f759a-b082-4653-9ebc-dcc78767dcb3"
      },
      "source": [
        "y_test"
      ],
      "execution_count": null,
      "outputs": [
        {
          "output_type": "execute_result",
          "data": {
            "text/plain": [
              "10    0\n",
              "23    1\n",
              "27    0\n",
              "24    1\n",
              "13    0\n",
              "25    1\n",
              "Name: bought_insurance, dtype: int64"
            ]
          },
          "metadata": {
            "tags": []
          },
          "execution_count": 84
        }
      ]
    }
  ]
}